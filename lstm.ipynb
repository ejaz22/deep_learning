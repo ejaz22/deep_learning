{
 "cells": [
  {
   "cell_type": "markdown",
   "metadata": {},
   "source": [
    "# Long Short-Term Memory Network\n",
    "\n",
    "https://github.com/keras-team/keras/tree/master/examples\n",
    "\n",
    "https://github.com/2wavetech/Time-Series-Analysis-and-Prediction\n",
    "\n",
    "https://machinelearningmastery.com/how-to-develop-lstm-models-for-time-series-forecasting/\n",
    "\n",
    "The Long Short-Term Memory network is a recurrent neural network that is trained using Backpropagation Through Time and overcomes the vanishing gradient problem. Instead of neurons, LSTM networks have memory blocks that are connected through layers. There are three types of gates within a unit:\n",
    "\n",
    "__Forget Gate:__ conditionally decides what information to throw away from the block.\n",
    "\n",
    "__Input Gate:__ conditionally decides which values from the input to update the memory state.\n",
    "\n",
    "__Output Gate:__ conditionally decides what to output based on input and the memory of the block.\n",
    "\n",
    "LSTM works better if we are dealing with huge amount of data and enough training data is available, while ARIMA is better for smaller datasets. ARIMA models are linear and LSTM models are nonlinear. Some other parametric nonlinear time series models that statisticians have studied are Threshold Autoregressive Models (TAR) and Smooth Transition Autoregressive Models (STAR)."
   ]
  },
  {
   "cell_type": "code",
   "execution_count": 2,
   "metadata": {},
   "outputs": [],
   "source": [
    "import numpy as np\n",
    "import pandas as pd \n",
    "import matplotlib.pyplot as plt\n",
    "import math\n",
    "from keras.models import Sequential\n",
    "from keras.layers import Dense\n",
    "from keras.layers import LSTM\n",
    "from sklearn.preprocessing import MinMaxScaler\n",
    "from sklearn.metrics import mean_squared_error\n",
    "import warnings\n",
    "warnings.filterwarnings('ignore')"
   ]
  },
  {
   "cell_type": "markdown",
   "metadata": {},
   "source": [
    "This is a univariate time series problem."
   ]
  },
  {
   "cell_type": "code",
   "execution_count": 5,
   "metadata": {},
   "outputs": [
    {
     "data": {
      "text/html": [
       "<div>\n",
       "<style scoped>\n",
       "    .dataframe tbody tr th:only-of-type {\n",
       "        vertical-align: middle;\n",
       "    }\n",
       "\n",
       "    .dataframe tbody tr th {\n",
       "        vertical-align: top;\n",
       "    }\n",
       "\n",
       "    .dataframe thead th {\n",
       "        text-align: right;\n",
       "    }\n",
       "</style>\n",
       "<table border=\"1\" class=\"dataframe\">\n",
       "  <thead>\n",
       "    <tr style=\"text-align: right;\">\n",
       "      <th></th>\n",
       "      <th>International airline passengers: monthly totals in thousands. Jan 49 ? Dec 60</th>\n",
       "    </tr>\n",
       "    <tr>\n",
       "      <th>Month</th>\n",
       "      <th></th>\n",
       "    </tr>\n",
       "  </thead>\n",
       "  <tbody>\n",
       "    <tr>\n",
       "      <th>1949-01-01</th>\n",
       "      <td>112</td>\n",
       "    </tr>\n",
       "    <tr>\n",
       "      <th>1949-02-01</th>\n",
       "      <td>118</td>\n",
       "    </tr>\n",
       "    <tr>\n",
       "      <th>1949-03-01</th>\n",
       "      <td>132</td>\n",
       "    </tr>\n",
       "    <tr>\n",
       "      <th>1949-04-01</th>\n",
       "      <td>129</td>\n",
       "    </tr>\n",
       "    <tr>\n",
       "      <th>1949-05-01</th>\n",
       "      <td>121</td>\n",
       "    </tr>\n",
       "  </tbody>\n",
       "</table>\n",
       "</div>"
      ],
      "text/plain": [
       "            International airline passengers: monthly totals in thousands. Jan 49 ? Dec 60\n",
       "Month                                                                                     \n",
       "1949-01-01                                                112                             \n",
       "1949-02-01                                                118                             \n",
       "1949-03-01                                                132                             \n",
       "1949-04-01                                                129                             \n",
       "1949-05-01                                                121                             "
      ]
     },
     "execution_count": 5,
     "metadata": {},
     "output_type": "execute_result"
    }
   ],
   "source": [
    "data = pd.read_csv(r'C:\\Users\\Sabeeha\\Desktop\\project\\airline_passanger\\air.csv',\n",
    "                   skipfooter=5, index_col='Month', parse_dates=['Month'])\n",
    "data.head()"
   ]
  },
  {
   "cell_type": "code",
   "execution_count": 6,
   "metadata": {},
   "outputs": [
    {
     "data": {
      "text/plain": [
       "(139, 1)"
      ]
     },
     "execution_count": 6,
     "metadata": {},
     "output_type": "execute_result"
    }
   ],
   "source": [
    "data.shape"
   ]
  },
  {
   "cell_type": "code",
   "execution_count": 22,
   "metadata": {},
   "outputs": [
    {
     "data": {
      "text/plain": [
       "<matplotlib.axes._subplots.AxesSubplot at 0x2047b761f88>"
      ]
     },
     "execution_count": 22,
     "metadata": {},
     "output_type": "execute_result"
    },
    {
     "data": {
      "image/png": "[encoded data removed]",
      "text/plain": [
       "<Figure size 432x288 with 1 Axes>"
      ]
     },
     "metadata": {
      "needs_background": "light"
     },
     "output_type": "display_data"
    }
   ],
   "source": [
    "data.plot(title='International Airline passenger')"
   ]
  },
  {
   "cell_type": "code",
   "execution_count": 4,
   "metadata": {},
   "outputs": [],
   "source": [
    "def ts(df, lag=1):\n",
    "    cols = [df.shift(i) for i in range(1, lag+1)]\n",
    "    cols.append(df)      # append the original as the output y onto the last column\n",
    "    df = pd.concat(cols, axis=1)\n",
    "    df.fillna(0, inplace=True)   # turn NaN to 0\n",
    "    return df"
   ]
  },
  {
   "cell_type": "code",
   "execution_count": 5,
   "metadata": {},
   "outputs": [],
   "source": [
    "#ts(data['International airline passengers: monthly totals in thousands. Jan 49 ? Dec 60'], lag=5)"
   ]
  },
  {
   "cell_type": "code",
   "execution_count": 10,
   "metadata": {},
   "outputs": [
    {
     "data": {
      "text/plain": [
       "(139, 1)"
      ]
     },
     "execution_count": 10,
     "metadata": {},
     "output_type": "execute_result"
    }
   ],
   "source": [
    "# Reshape your data using array.reshape(-1, 1) if your data has a single feature\n",
    "dataset = data['International airline passengers: monthly totals in thousands. Jan 49 ? Dec 60'].values\n",
    "dataset = dataset.reshape(-1,1)\n",
    "dataset = dataset.astype(\"float32\")\n",
    "dataset.shape"
   ]
  },
  {
   "cell_type": "code",
   "execution_count": 11,
   "metadata": {},
   "outputs": [],
   "source": [
    "# scaling \n",
    "scaler = MinMaxScaler(feature_range=(0, 1))\n",
    "dataset = scaler.fit_transform(dataset)"
   ]
  },
  {
   "cell_type": "code",
   "execution_count": 12,
   "metadata": {},
   "outputs": [
    {
     "name": "stdout",
     "output_type": "stream",
     "text": [
      "train size: 69, test size: 70 \n"
     ]
    }
   ],
   "source": [
    "# train, test split\n",
    "train_size = int(len(dataset) * 0.50)\n",
    "test_size = len(dataset) - train_size\n",
    "train = dataset[0:train_size,:]\n",
    "test = dataset[train_size:len(dataset),:]\n",
    "print(\"train size: {}, test size: {} \".format(len(train), len(test)))"
   ]
  },
  {
   "cell_type": "code",
   "execution_count": 13,
   "metadata": {},
   "outputs": [],
   "source": [
    "time_stemp = 3\n",
    "dataX,dataY = [],[]\n",
    "\n",
    "for i in range(len(train)-time_stemp-1):\n",
    "    a = train[i:(i+time_stemp), 0]\n",
    "    dataX.append(a)\n",
    "    dataY.append(train[i + time_stemp, 0])\n",
    "\n",
    "trainX = np.array(dataX)\n",
    "trainY = np.array(dataY)  "
   ]
  },
  {
   "cell_type": "code",
   "execution_count": 14,
   "metadata": {},
   "outputs": [],
   "source": [
    "dataX,dataY = [],[]\n",
    "\n",
    "for i in range(len(test)-time_stemp-1):\n",
    "    a = test[i:(i+time_stemp), 0]\n",
    "    dataX.append(a)\n",
    "    dataY.append(test[i + time_stemp, 0])\n",
    "\n",
    "testX = np.array(dataX)\n",
    "testY = np.array(dataY)  "
   ]
  },
  {
   "cell_type": "code",
   "execution_count": 15,
   "metadata": {},
   "outputs": [
    {
     "data": {
      "text/plain": [
       "((65, 1, 3), (66, 1, 3))"
      ]
     },
     "execution_count": 15,
     "metadata": {},
     "output_type": "execute_result"
    }
   ],
   "source": [
    "# LSTM requires a three-dimensional input. The shape of it is (batch_size, input_length, dimension).\n",
    "# reshape input to be [samples, time_steps, features]\n",
    "\n",
    "trainX = trainX.reshape(trainX.shape[0], 1, trainX.shape[1])\n",
    "testX = testX.reshape(testX.shape[0], 1, testX.shape[1])\n",
    "trainX.shape, testX.shape"
   ]
  },
  {
   "cell_type": "markdown",
   "metadata": {},
   "source": [
    "## LSTM Inputs\n",
    "\n",
    "LSTM Input Shape: 3D tensor with shape (batch_size, timesteps, input_dim)\n",
    "\n",
    "```python\n",
    "model.add(LSTM(hidden_nodes, input_shape=(timesteps, input_dim)))\n",
    "#or\n",
    "model.add(LSTM(8, batch_input_shape = (batch_size, timesteps, input_dim,stateful=True)\n",
    "```\n",
    "__timesteps (or window)__ = the number of timesteps you want to consider. E.g. if you want to classify a sentence, this would be the number of words in a sentence.\n",
    "\n",
    "__input_dim__ = the dimensions of your features/embeddings. E.g. a vector representation of the words in the sentence\n",
    "\n",
    "\n",
    "The LSTM network expects the input data (X) to be provided with a specific array structure in the form of 3D: [samples, time steps, features], or in other words, 3D tensor with shape (batch_size, timesteps, input_dim), or optionally, 2D tensors with shape (batch_size, output_dim).\n",
    "\n",
    "\n",
    "## What's the difference between input_shape and batch_input_shape in LSTM\n",
    "\n",
    "LSTM, like all layers in Keras, accepts two arguments: input_shape and batch_input_shape. The difference is in convention that input_shape does not contain the batch size, while batch_input_shape is the full input shape including the batch size.\n",
    "\n",
    "But that's not all. LSTM layer is a recurrent layer, hence it expects a 3-dimensional input (batch_size, timesteps, input_dim). That's why the correct specification is input_shape=(20, 1) or batch_input_shape=(10000, 20, 1). Plus, your training array should also be reshaped to denote that it has 20 time steps and 1 input feature per each step.\n",
    "\n",
    "Hence, the solution:\n",
    "\n",
    "```python\n",
    "X_train = np.expand_dims(X_train, 2)  # makes it (10000,20,1)\n",
    "model = Sequential()\n",
    "model.add(LSTM(..., input_shape=(20, 1)))\n",
    "```\n",
    "## Does batch_size in Keras have any effects in results' quality?\n",
    "\n",
    "Batch size impacts learning significantly. What happens when you put a batch through your network is that you average the gradients. The concept is that if your batch size is big enough, this will provide a stable enough estimate of what the gradient of the full dataset would be. By taking samples from your dataset, you estimate the gradient while reducing computational cost significantly. The lower you go, the less accurate your esttimate will be, however in some cases these noisy gradients can actually help escape local minima. When it is too low, your network weights can just jump around if your data is noisy and it might be unable to learn or it converges very slowly, thus negatively impacting total computation time.\n",
    "\n",
    "Another advantage of batching is for GPU computation, GPUs are very good at parallelizing the calculations that happen in neural networks if part of the computation is the same (for example, repeated matrix multiplication over the same weight matrix of your network). This means that a batch size of 16 will take less than twice the amount of a batch size of 8.\n",
    "\n",
    "In the case that you do need bigger batch sizes but it will not fit on your GPU, you can feed a small batch, save the gradient estimates and feed one or more batches, and then do a weight update. This way you get a more stable gradient because you increased your virtual batch size."
   ]
  },
  {
   "cell_type": "code",
   "execution_count": 16,
   "metadata": {},
   "outputs": [],
   "source": [
    "# model : a vanilla or simple LSTM with one layer\n",
    "\n",
    "batch_size = 1\n",
    "\n",
    "model = Sequential()\n",
    "#model.add(LSTM(units=8, input_shape=(1, time_stemp))) # 2D tensors with shape (batch_size, output_dim).\n",
    "model.add(LSTM(8, batch_input_shape = (batch_size, trainX.shape[1], trainX.shape[2]),stateful=True))\n",
    "model.add(Dense(1))\n",
    "model.compile(loss='mean_squared_error', optimizer='adam',metrics=['accuracy'])"
   ]
  },
  {
   "cell_type": "code",
   "execution_count": 17,
   "metadata": {},
   "outputs": [
    {
     "name": "stdout",
     "output_type": "stream",
     "text": [
      "Epoch 1/10\n",
      "65/65 [==============================] - 2s 30ms/step - loss: 0.0119 - accuracy: 0.0154\n",
      "Epoch 2/10\n",
      "65/65 [==============================] - 0s 3ms/step - loss: 0.0067 - accuracy: 0.0154\n",
      "Epoch 3/10\n",
      "65/65 [==============================] - 0s 3ms/step - loss: 0.0060 - accuracy: 0.0154\n",
      "Epoch 4/10\n",
      "65/65 [==============================] - 0s 3ms/step - loss: 0.0056 - accuracy: 0.0154\n",
      "Epoch 5/10\n",
      "65/65 [==============================] - 0s 3ms/step - loss: 0.0046 - accuracy: 0.0154\n",
      "Epoch 6/10\n",
      "65/65 [==============================] - 0s 3ms/step - loss: 0.0045 - accuracy: 0.0154\n",
      "Epoch 7/10\n",
      "65/65 [==============================] - 0s 4ms/step - loss: 0.0040 - accuracy: 0.0154\n",
      "Epoch 8/10\n",
      "65/65 [==============================] - 0s 3ms/step - loss: 0.0039 - accuracy: 0.0154\n",
      "Epoch 9/10\n",
      "65/65 [==============================] - 0s 3ms/step - loss: 0.0035 - accuracy: 0.0154\n",
      "Epoch 10/10\n",
      "65/65 [==============================] - 0s 3ms/step - loss: 0.0040 - accuracy: 0.0154\n"
     ]
    },
    {
     "data": {
      "text/plain": [
       "<keras.callbacks.callbacks.History at 0x2047a3c1b88>"
      ]
     },
     "execution_count": 17,
     "metadata": {},
     "output_type": "execute_result"
    }
   ],
   "source": [
    "model.fit(trainX, trainY, epochs=10, batch_size=1)"
   ]
  },
  {
   "cell_type": "code",
   "execution_count": 18,
   "metadata": {},
   "outputs": [
    {
     "name": "stdout",
     "output_type": "stream",
     "text": [
      "Train Score: 25.83 RMSE\n",
      "Test Score: 77.62 RMSE\n"
     ]
    }
   ],
   "source": [
    "trainPredict = model.predict(trainX,batch_size = 1)\n",
    "testPredict = model.predict(testX,batch_size = 1)\n",
    "\n",
    "# invert predictions\n",
    "trainPredict = scaler.inverse_transform(trainPredict)\n",
    "trainY = scaler.inverse_transform([trainY])\n",
    "\n",
    "testPredict = scaler.inverse_transform(testPredict)\n",
    "testY = scaler.inverse_transform([testY])\n",
    "\n",
    "# calculate root mean squared error\n",
    "trainScore = math.sqrt(mean_squared_error(trainY[0], trainPredict[:,0]))\n",
    "print('Train Score: %.2f RMSE' % (trainScore))\n",
    "testScore = math.sqrt(mean_squared_error(testY[0], testPredict[:,0]))\n",
    "print('Test Score: %.2f RMSE' % (testScore))"
   ]
  },
  {
   "cell_type": "code",
   "execution_count": 16,
   "metadata": {},
   "outputs": [
    {
     "data": {
      "image/png": "[encoded data removed]",
      "text/plain": [
       "<Figure size 432x288 with 1 Axes>"
      ]
     },
     "metadata": {
      "needs_background": "light"
     },
     "output_type": "display_data"
    }
   ],
   "source": [
    "# shifting train\n",
    "trainPredictPlot = np.empty_like(dataset)\n",
    "trainPredictPlot[:, :] = np.nan\n",
    "trainPredictPlot[time_stemp:len(trainPredict)+time_stemp, :] = trainPredict\n",
    "\n",
    "# shifting test predictions for plotting\n",
    "testPredictPlot = np.empty_like(dataset)\n",
    "testPredictPlot[:, :] = np.nan\n",
    "testPredictPlot[len(trainPredict)+(time_stemp*2)+1:len(dataset)-1, :] = testPredict\n",
    "\n",
    "# plot baseline and predictions\n",
    "plt.plot(scaler.inverse_transform(dataset))\n",
    "plt.plot(trainPredictPlot)\n",
    "plt.plot(testPredictPlot)\n",
    "plt.show()"
   ]
  },
  {
   "cell_type": "markdown",
   "metadata": {},
   "source": [
    "## Why set return_sequences=True and stateful=True for tf.keras.layers.LSTM?\n",
    "\n",
    "We feed in a sequence of inputs (x's), one batch at a time and each LSTM cell returns an output (y_i). So if your input is of size batch_size x time_steps X input_size then the LSTM output will be batch_size X time_steps X output_size. This is called a sequence to sequence model because an input sequence is converted into an output sequence. Typical usages of this model are in tagger (POS tagger, NER Tagger). In keras this is achieved by setting return_sequences=True.\n",
    "\n",
    "stateful=True\n",
    "\n",
    "From the documentation, \"If True, the last state for each sample at index i in a batch will be used as initial state for the sample of index i in the following batch.\"\n",
    "\n",
    "In normal (or “stateless”) mode, Keras shuffles the samples, and the dependencies between the time series and the lagged version of itself are lost. However, when run in “stateful” mode, we can often get high accuracy results by leveraging the autocorrelations present in the time series."
   ]
  },
  {
   "cell_type": "code",
   "execution_count": 17,
   "metadata": {},
   "outputs": [
    {
     "name": "stdout",
     "output_type": "stream",
     "text": [
      "(2, 3, 4)\n"
     ]
    }
   ],
   "source": [
    "import tensorflow as tf\n",
    "import numpy as np\n",
    "tf.keras.backend.clear_session()\n",
    "tf.random.set_seed(42)\n",
    "X = np.array([[[1,2,3],[4,5,6],[7,8,9]],[[1,2,3],[4,5,6],[0,0,0]]], dtype=np.float32)\n",
    "\n",
    "model = tf.keras.Sequential([tf.keras.layers.LSTM(4, return_sequences=True, stateful=True, recurrent_initializer='glorot_uniform')])\n",
    "print(tf.keras.backend.get_value(model(X)).shape)"
   ]
  },
  {
   "cell_type": "code",
   "execution_count": 18,
   "metadata": {},
   "outputs": [
    {
     "name": "stdout",
     "output_type": "stream",
     "text": [
      "[[[-0.78032774 -0.06589078  0.42429498 -0.07136772]\n",
      "  [-0.8983276  -0.16955552  0.47843087 -0.04470691]\n",
      "  [-0.9548513  -0.41247028  0.42742747 -0.02386559]]\n",
      "\n",
      " [[-0.5756962   0.08765698  0.4405183  -0.0970213 ]\n",
      "  [-0.80077946  0.01759103  0.5067261  -0.05963931]\n",
      "  [-0.43554977  0.01338535  0.17208892 -0.24627887]]]\n"
     ]
    }
   ],
   "source": [
    "print(tf.keras.backend.get_value(model(X)))"
   ]
  },
  {
   "cell_type": "code",
   "execution_count": 19,
   "metadata": {},
   "outputs": [
    {
     "name": "stdout",
     "output_type": "stream",
     "text": [
      "(2, 4)\n"
     ]
    }
   ],
   "source": [
    "tf.keras.backend.clear_session()\n",
    "tf.random.set_seed(42)\n",
    "model = tf.keras.Sequential([\n",
    "tf.keras.layers.LSTM(4, return_sequences=False, stateful=True, recurrent_initializer='glorot_uniform')])\n",
    "print(tf.keras.backend.get_value(model(X)).shape)"
   ]
  },
  {
   "cell_type": "code",
   "execution_count": 20,
   "metadata": {},
   "outputs": [
    {
     "name": "stdout",
     "output_type": "stream",
     "text": [
      "[[-0.9548513  -0.41247028  0.42742747 -0.02386559]\n",
      " [-0.43554977  0.01338535  0.17208892 -0.24627887]]\n"
     ]
    }
   ],
   "source": [
    "print(tf.keras.backend.get_value(model(X)))"
   ]
  },
  {
   "cell_type": "markdown",
   "metadata": {},
   "source": [
    "What is mostly used activation function ?\n",
    "\n",
    "Relu function is mostly used activation function. It will help us to solve vanishing gradient problem\n",
    "\n",
    "Can i use Relu activation function in output layer ?\n",
    "\n",
    "No – it has to use in hidden layers"
   ]
  },
  {
   "cell_type": "markdown",
   "metadata": {},
   "source": [
    "What is an auto-encoder? Why do we \"auto-encode\"? Hint: it's really a misnomer.\n",
    "What is a Boltzmann Machine? Why a Boltzmann Machine?\n",
    "Why do we use sigmoid for an output function? Why tanh? Why not cosine? Why any function in particular?\n",
    "Why are CNNs used primarily in imaging and not so much other tasks?\n",
    "Explain backpropagation. Seriously. To the target audience described above.\n",
    "Is it OK to connect from a Layer 4 output back to a Layer 2 input?\n",
    "A data-scientist person recently put up a YouTube video explaining that the essential difference between a Neural Network and a Deep Learning network is that the former is trained from output back to input, while the latter is trained from input toward output. Do you agree? Explain.\n",
    "\n",
    "Usually the first questions are : what do you know about some “pre-deep learning epoch” algorithms, like SVM, KNN, Kmeans, Random Forest…?\n",
    "\n",
    "Talking about deep learning, here are the questions I was asked to answer:\n",
    "\n",
    "Implement dropout during forward and backward pass?\n",
    "Was not very hard, you just have to consider what’s happening during testing vs training phase. In this question, the interviewer can test your knowledge on dropout, and backprop\n",
    "\n",
    "Neural network training loss/testing loss stays constant, what do you do?\n",
    "Open question (ask if there could be an error in your code, going deeper, going simpler…)\n",
    "\n",
    "Why do RNNs have a tendency to suffer from exploding/vanishing gradient?\n",
    "And probably you know the next question… How to prevent this? You can talk about LSTM cell which helps the gradient from vanishing, but make sure you know why it does so. I also remember having a nice conversation about gradient clipping, where we wonder whether we should clip the gradient element wise, or clip the norm of the gradient.\n",
    "\n",
    "Then I had a lot of question about some modern architecture, such as Do you know GAN, VAE, and memory augmented neural network? Can you talk about it?\n",
    "Of course, let me talk about the beauty of variational auto encoder.\n",
    "\n",
    "Some maths questions such as: Does using full batch means that the convergence is always better given unlimited power?\n",
    "After the discussion, I was not sure about the answer so I asked the question on Quora[1]\n",
    "\n",
    "What is the problem with sigmoid during backpropagation?\n",
    "Very small, between 0.25 and zero.[2]\n",
    "\n",
    "Given a black box machine learning algorithm that you can’t modify, how could you improve its error?\n",
    "Open question, you can transform the input for example.\n",
    "\n",
    "How to find the best hyper parameters?\n",
    "Random search, grid search, Bayesian search (and what it is?)\n",
    "\n",
    "What is transfer learning?\n",
    "If you don’t know, Google is there for you.\n"
   ]
  },
  {
   "cell_type": "code",
   "execution_count": null,
   "metadata": {},
   "outputs": [],
   "source": []
  }
 ],
 "metadata": {
  "kernelspec": {
   "display_name": "Python 3",
   "language": "python",
   "name": "python3"
  },
  "language_info": {
   "codemirror_mode": {
    "name": "ipython",
    "version": 3
   },
   "file_extension": ".py",
   "mimetype": "text/x-python",
   "name": "python",
   "nbconvert_exporter": "python",
   "pygments_lexer": "ipython3",
   "version": "3.8.2"
  }
 },
 "nbformat": 4,
 "nbformat_minor": 4
}
